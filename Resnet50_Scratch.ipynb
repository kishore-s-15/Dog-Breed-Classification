{
 "cells": [
  {
   "cell_type": "markdown",
   "metadata": {
    "id": "omH6Ly6oqLA2"
   },
   "source": [
    "## Dog Breed Classification - Resnet 50 From Scratch"
   ]
  },
  {
   "cell_type": "code",
   "execution_count": 1,
   "metadata": {
    "id": "bsGVSQIMqLA8",
    "scrolled": true
   },
   "outputs": [],
   "source": [
    "# Importing the required Libraries\n",
    "\n",
    "import os\n",
    "import numpy as np\n",
    "import pandas as pd\n",
    "import seaborn as sns\n",
    "import matplotlib.pyplot as plt\n",
    "\n",
    "from keras.models import Model\n",
    "from keras.optimizers import Adam\n",
    "from keras.initializers import glorot_uniform\n",
    "from keras.preprocessing.image import ImageDataGenerator\n",
    "from keras.callbacks import EarlyStopping, ReduceLROnPlateau, TensorBoard\n",
    "from keras.layers import Input, Add, Activation, BatchNormalization, Conv2D, ZeroPadding2D\n",
    "from keras.layers import Dense, Flatten, AveragePooling2D, MaxPooling2D, GlobalMaxPooling2D\n",
    "\n",
    "%matplotlib inline\n",
    "sns.set_theme(style=\"darkgrid\")"
   ]
  },
  {
   "cell_type": "markdown",
   "metadata": {
    "id": "MFc9MhXHqLA8"
   },
   "source": [
    "#### 1. Data Preprocessing"
   ]
  },
  {
   "cell_type": "code",
   "execution_count": 3,
   "metadata": {
    "id": "WrP8F5oUqLA9"
   },
   "outputs": [],
   "source": [
    "df = pd.read_csv(\"./data/labels.csv\")"
   ]
  },
  {
   "cell_type": "code",
   "execution_count": 4,
   "metadata": {
    "colab": {
     "base_uri": "https://localhost:8080/",
     "height": 195
    },
    "id": "1je8GE7Pt5E6",
    "outputId": "814493d2-6c7f-4419-9811-68b0322cfe9b"
   },
   "outputs": [
    {
     "data": {
      "text/html": [
       "<div>\n",
       "<style scoped>\n",
       "    .dataframe tbody tr th:only-of-type {\n",
       "        vertical-align: middle;\n",
       "    }\n",
       "\n",
       "    .dataframe tbody tr th {\n",
       "        vertical-align: top;\n",
       "    }\n",
       "\n",
       "    .dataframe thead th {\n",
       "        text-align: right;\n",
       "    }\n",
       "</style>\n",
       "<table border=\"1\" class=\"dataframe\">\n",
       "  <thead>\n",
       "    <tr style=\"text-align: right;\">\n",
       "      <th></th>\n",
       "      <th>id</th>\n",
       "      <th>breed</th>\n",
       "    </tr>\n",
       "  </thead>\n",
       "  <tbody>\n",
       "    <tr>\n",
       "      <th>0</th>\n",
       "      <td>000bec180eb18c7604dcecc8fe0dba07</td>\n",
       "      <td>boston_bull</td>\n",
       "    </tr>\n",
       "    <tr>\n",
       "      <th>1</th>\n",
       "      <td>001513dfcb2ffafc82cccf4d8bbaba97</td>\n",
       "      <td>dingo</td>\n",
       "    </tr>\n",
       "    <tr>\n",
       "      <th>2</th>\n",
       "      <td>001cdf01b096e06d78e9e5112d419397</td>\n",
       "      <td>pekinese</td>\n",
       "    </tr>\n",
       "    <tr>\n",
       "      <th>3</th>\n",
       "      <td>00214f311d5d2247d5dfe4fe24b2303d</td>\n",
       "      <td>bluetick</td>\n",
       "    </tr>\n",
       "    <tr>\n",
       "      <th>4</th>\n",
       "      <td>0021f9ceb3235effd7fcde7f7538ed62</td>\n",
       "      <td>golden_retriever</td>\n",
       "    </tr>\n",
       "  </tbody>\n",
       "</table>\n",
       "</div>"
      ],
      "text/plain": [
       "                                 id             breed\n",
       "0  000bec180eb18c7604dcecc8fe0dba07       boston_bull\n",
       "1  001513dfcb2ffafc82cccf4d8bbaba97             dingo\n",
       "2  001cdf01b096e06d78e9e5112d419397          pekinese\n",
       "3  00214f311d5d2247d5dfe4fe24b2303d          bluetick\n",
       "4  0021f9ceb3235effd7fcde7f7538ed62  golden_retriever"
      ]
     },
     "execution_count": 4,
     "metadata": {
      "tags": []
     },
     "output_type": "execute_result"
    }
   ],
   "source": [
    "df.head()"
   ]
  },
  {
   "cell_type": "code",
   "execution_count": 5,
   "metadata": {
    "colab": {
     "base_uri": "https://localhost:8080/"
    },
    "id": "mDKtqoXNqLA9",
    "outputId": "3ad33d04-ccc1-450a-d47d-92a81a9cb5c4"
   },
   "outputs": [
    {
     "data": {
      "text/plain": [
       "120"
      ]
     },
     "execution_count": 5,
     "metadata": {
      "tags": []
     },
     "output_type": "execute_result"
    }
   ],
   "source": [
    "len(df[\"breed\"].unique())"
   ]
  },
  {
   "cell_type": "code",
   "execution_count": 6,
   "metadata": {
    "id": "8k55GFUcqLA-"
   },
   "outputs": [],
   "source": [
    "# Required Dog Breed List\n",
    "breedList = [\"beagle\", \"chihuahua\", \"doberman\", \"french_bulldog\", \"golden_retriever\",\n",
    "             \"malamute\", \"pug\", \"saint_bernard\", \"scottish_deerhound\", \"tibetan_mastiff\"]"
   ]
  },
  {
   "cell_type": "code",
   "execution_count": 7,
   "metadata": {
    "id": "xYf2EcowqLA-"
   },
   "outputs": [],
   "source": [
    "# The dataset consists of 120 Canine Classes\n",
    "# from which the non required classes are filtered out\n",
    "\n",
    "df = df[df[\"breed\"].isin(breedList)]"
   ]
  },
  {
   "cell_type": "code",
   "execution_count": 8,
   "metadata": {
    "colab": {
     "base_uri": "https://localhost:8080/",
     "height": 195
    },
    "id": "JGNghwHWqLA-",
    "outputId": "6f0d6f38-8511-47b5-8b19-f24c3d477efb"
   },
   "outputs": [
    {
     "data": {
      "text/html": [
       "<div>\n",
       "<style scoped>\n",
       "    .dataframe tbody tr th:only-of-type {\n",
       "        vertical-align: middle;\n",
       "    }\n",
       "\n",
       "    .dataframe tbody tr th {\n",
       "        vertical-align: top;\n",
       "    }\n",
       "\n",
       "    .dataframe thead th {\n",
       "        text-align: right;\n",
       "    }\n",
       "</style>\n",
       "<table border=\"1\" class=\"dataframe\">\n",
       "  <thead>\n",
       "    <tr style=\"text-align: right;\">\n",
       "      <th></th>\n",
       "      <th>id</th>\n",
       "      <th>breed</th>\n",
       "    </tr>\n",
       "  </thead>\n",
       "  <tbody>\n",
       "    <tr>\n",
       "      <th>4</th>\n",
       "      <td>0021f9ceb3235effd7fcde7f7538ed62</td>\n",
       "      <td>golden_retriever</td>\n",
       "    </tr>\n",
       "    <tr>\n",
       "      <th>9</th>\n",
       "      <td>0042188c895a2f14ef64a918ed9c7b64</td>\n",
       "      <td>scottish_deerhound</td>\n",
       "    </tr>\n",
       "    <tr>\n",
       "      <th>20</th>\n",
       "      <td>008b1271ed1addaccf93783b39deab45</td>\n",
       "      <td>doberman</td>\n",
       "    </tr>\n",
       "    <tr>\n",
       "      <th>25</th>\n",
       "      <td>00a366d4b4a9bbb6c8a63126697b7656</td>\n",
       "      <td>golden_retriever</td>\n",
       "    </tr>\n",
       "    <tr>\n",
       "      <th>37</th>\n",
       "      <td>0100f55e4f0fe28f2c0465d3fc4b9897</td>\n",
       "      <td>golden_retriever</td>\n",
       "    </tr>\n",
       "  </tbody>\n",
       "</table>\n",
       "</div>"
      ],
      "text/plain": [
       "                                  id               breed\n",
       "4   0021f9ceb3235effd7fcde7f7538ed62    golden_retriever\n",
       "9   0042188c895a2f14ef64a918ed9c7b64  scottish_deerhound\n",
       "20  008b1271ed1addaccf93783b39deab45            doberman\n",
       "25  00a366d4b4a9bbb6c8a63126697b7656    golden_retriever\n",
       "37  0100f55e4f0fe28f2c0465d3fc4b9897    golden_retriever"
      ]
     },
     "execution_count": 8,
     "metadata": {
      "tags": []
     },
     "output_type": "execute_result"
    }
   ],
   "source": [
    "df.head()"
   ]
  },
  {
   "cell_type": "markdown",
   "metadata": {
    "id": "_oHa5ZiDqLA_"
   },
   "source": [
    "#### 2. Data Visualization"
   ]
  },
  {
   "cell_type": "code",
   "execution_count": 9,
   "metadata": {
    "colab": {
     "base_uri": "https://localhost:8080/"
    },
    "id": "SDnahuPWqLA_",
    "outputId": "7ff48bb3-96f4-40e0-b7d9-866e986bee5c"
   },
   "outputs": [
    {
     "data": {
      "text/plain": [
       "count                    841\n",
       "unique                    10\n",
       "top       scottish_deerhound\n",
       "freq                     126\n",
       "Name: breed, dtype: object"
      ]
     },
     "execution_count": 9,
     "metadata": {
      "tags": []
     },
     "output_type": "execute_result"
    }
   ],
   "source": [
    "df[\"breed\"].describe()"
   ]
  },
  {
   "cell_type": "code",
   "execution_count": 10,
   "metadata": {
    "colab": {
     "base_uri": "https://localhost:8080/"
    },
    "id": "QigLfjrRqLA_",
    "outputId": "55403afc-42f4-490b-b2be-2eedd3a6c500"
   },
   "outputs": [
    {
     "data": {
      "text/plain": [
       "scottish_deerhound    126\n",
       "beagle                105\n",
       "pug                    94\n",
       "saint_bernard          84\n",
       "malamute               81\n",
       "doberman               74\n",
       "chihuahua              71\n",
       "french_bulldog         70\n",
       "tibetan_mastiff        69\n",
       "golden_retriever       67\n",
       "Name: breed, dtype: int64"
      ]
     },
     "execution_count": 10,
     "metadata": {
      "tags": []
     },
     "output_type": "execute_result"
    }
   ],
   "source": [
    "df[\"breed\"].value_counts()"
   ]
  },
  {
   "cell_type": "code",
   "execution_count": 11,
   "metadata": {
    "colab": {
     "base_uri": "https://localhost:8080/",
     "height": 580
    },
    "id": "nBy8PK7NqLBA",
    "outputId": "0a7f7617-94d4-4ede-e5ab-5ec0bcbedbb4"
   },
   "outputs": [
    {
     "data": {
      "image/png": "[encoded data removed]",
      "text/plain": [
       "<Figure size 1440x720 with 1 Axes>"
      ]
     },
     "metadata": {
      "needs_background": "light",
      "tags": []
     },
     "output_type": "display_data"
    }
   ],
   "source": [
    "# Category Count Plot to check for imbalances in the dataset\n",
    "\n",
    "plt.subplots(figsize=(20, 10))\n",
    "plt.rc('axes', labelsize=14)\n",
    "plt.rc('xtick', labelsize=14)\n",
    "plt.rc('ytick', labelsize=14)\n",
    "\n",
    "ax = sns.countplot(x = \"breed\", data = df)"
   ]
  },
  {
   "cell_type": "markdown",
   "metadata": {
    "id": "5jZuuGpMqLBB"
   },
   "source": [
    "10% of the images from training set is randomly taken as validation data & 5 Images were taken from each category for testing data"
   ]
  },
  {
   "cell_type": "code",
   "execution_count": 13,
   "metadata": {
    "id": "y6wcR5lvqLBB"
   },
   "outputs": [],
   "source": [
    "train_dir = os.path.join(os.getcwd(), \"data\", \"train\")\n",
    "val_dir = os.path.join(os.getcwd(), \"data\", \"val\")\n",
    "test_dir = os.path.join(os.getcwd(), \"data\", \"test\")"
   ]
  },
  {
   "cell_type": "markdown",
   "metadata": {
    "id": "StOd617cqLBB"
   },
   "source": [
    "#### 3. Model Training"
   ]
  },
  {
   "cell_type": "code",
   "execution_count": 14,
   "metadata": {
    "id": "4f4ePrE-qLBB"
   },
   "outputs": [],
   "source": [
    "def identity_block(X, conv_size, filters, stage, block):\n",
    "    \n",
    "    conv_base_name = f\"res{stage}{block}_branch\"\n",
    "    bn_base_name = f\"bn{stage}{block}_branch\"\n",
    "    \n",
    "    f1, f2, f3 = filters\n",
    "    \n",
    "    # Identity Input\n",
    "    X_shortcut = X\n",
    "    \n",
    "    # Main Path\n",
    "    \n",
    "    # First Component of the main path\n",
    "    X = Conv2D(filters = f1, kernel_size = (1, 1), strides = (1, 1), \n",
    "               padding = \"valid\", name=f\"{conv_base_name}_2a\",\n",
    "               kernel_initializer=glorot_uniform(seed=0))(X)\n",
    "    X = BatchNormalization(axis = 3, name = f\"{bn_base_name}_2a\")(X)\n",
    "    X = Activation(\"relu\")(X)\n",
    "    \n",
    "    # Second Component of the main path\n",
    "    X = Conv2D(filters = f2, kernel_size = (conv_size, conv_size), strides = (1, 1),\n",
    "               padding='same', name=f\"{conv_base_name}_2b\",\n",
    "               kernel_initializer=glorot_uniform(seed=0))(X)\n",
    "    X = BatchNormalization(axis = 3, name = f\"{bn_base_name}_2b\")(X)\n",
    "    X = Activation(\"relu\")(X)\n",
    "    \n",
    "    # Third Component of the main path\n",
    "    X = Conv2D(filters = f3, kernel_size = (1, 1), strides = (1, 1), \n",
    "               padding = \"valid\", name=f\"{conv_base_name}_2c\",\n",
    "               kernel_initializer=glorot_uniform(seed=0))(X)\n",
    "    X = BatchNormalization(axis = 3, name = f\"{bn_base_name}_2c\")(X)\n",
    "    \n",
    "    # Adding shortcut to the main path\n",
    "    X = Add()([X, X_shortcut])\n",
    "    X = Activation(\"relu\")(X)\n",
    "    \n",
    "    return X"
   ]
  },
  {
   "cell_type": "code",
   "execution_count": 15,
   "metadata": {
    "id": "8IoGJsw6qLBB"
   },
   "outputs": [],
   "source": [
    "def convolutional_block(X, conv_size, filters, stage, block, stride_size = 2):\n",
    "    \n",
    "    conv_base_name = f\"res{stage}{block}_branch\"\n",
    "    bn_base_name = f\"bn{stage}{block}_branch\"\n",
    "    \n",
    "    f1, f2, f3 = filters\n",
    "    \n",
    "    # Identity Input\n",
    "    X_shortcut = X\n",
    "    \n",
    "    # Main Path\n",
    "    \n",
    "    # First Component of the main path\n",
    "    X = Conv2D(filters = f1, kernel_size = (1, 1), strides = (stride_size, stride_size),\n",
    "               name=f\"{conv_base_name}_2a\", kernel_initializer=glorot_uniform(seed = 0))(X)\n",
    "    X = BatchNormalization(axis = 3, name=f\"{bn_base_name}_2a\")(X)\n",
    "    X = Activation(\"relu\")(X)\n",
    "    \n",
    "    # Second Component of the main path\n",
    "    X = Conv2D(filters = f2, kernel_size = (conv_size, conv_size), strides = (1, 1), padding = \"same\",\n",
    "               name=f\"{conv_base_name}_2b\", kernel_initializer=glorot_uniform(seed = 0))(X)\n",
    "    X = BatchNormalization(axis = 3, name=f\"{bn_base_name}_2b\")(X)\n",
    "    X = Activation(\"relu\")(X)\n",
    "    \n",
    "    # Third Component of the main path\n",
    "    X = Conv2D(filters = f3, kernel_size = (1, 1), strides = (1, 1), padding = \"valid\",\n",
    "               name=f\"{conv_base_name}_2c\", kernel_initializer=glorot_uniform(seed = 0))(X)\n",
    "    X = BatchNormalization(axis = 3, name=f\"{bn_base_name}_2c\")(X)\n",
    "    \n",
    "    # Shortcut Path\n",
    "    X_shortcut = Conv2D(filters = f3, kernel_size = (1, 1), strides = (stride_size, stride_size), padding = \"valid\",\n",
    "                        name=f\"{conv_base_name}_1\", kernel_initializer=glorot_uniform(seed=0))(X_shortcut)\n",
    "    X_shortcut = BatchNormalization(axis = 3, name = f\"{bn_base_name}_1\")(X_shortcut)\n",
    "    \n",
    "    # Adding the main path and shortcut\n",
    "    X = Add()([X, X_shortcut])\n",
    "    X = Activation(\"relu\")(X)\n",
    "    \n",
    "    return X"
   ]
  },
  {
   "cell_type": "code",
   "execution_count": 16,
   "metadata": {
    "id": "ilc1Tqf7qLBC"
   },
   "outputs": [],
   "source": [
    "def ResNet50(input_shape, classes):\n",
    "    \n",
    "    # Input Tensor with shape input_shape\n",
    "    X_input = Input(input_shape)\n",
    "    \n",
    "    # Zero - Padding\n",
    "    X = ZeroPadding2D(padding=(3, 3))(X_input)\n",
    "    \n",
    "    # Stage 1\n",
    "    X = Conv2D(filters=64, kernel_size=(7, 7), strides=(2, 2), name=\"conv1\",\n",
    "               kernel_initializer=glorot_uniform(seed=0))(X)\n",
    "    X = BatchNormalization(axis=3, name=\"bn_conv1\")(X)\n",
    "    X = Activation(\"relu\")(X)\n",
    "    X = MaxPooling2D(pool_size=(3, 3), strides=(2, 2))(X)\n",
    "    \n",
    "    # Stage 2\n",
    "    X = convolutional_block(X, conv_size=3, filters=(64, 64, 256),\n",
    "                            stage=2, block=\"a\", stride_size=2)\n",
    "    X = identity_block(X, conv_size=3, filters=(64, 64, 256), stage=2, block=\"b\")\n",
    "    X = identity_block(X, conv_size=3, filters=(64, 64, 256), stage=2, block=\"c\")\n",
    "    \n",
    "    # Stage 3\n",
    "    X = convolutional_block(X, conv_size=3, filters=(128, 128, 512), stage=3, block=\"a\", stride_size=2)\n",
    "    X = identity_block(X, conv_size=3, filters=(128, 128, 512), stage=3, block=\"b\")\n",
    "    X = identity_block(X, conv_size=3, filters=(128, 128, 512), stage=3, block=\"c\")\n",
    "    X = identity_block(X, conv_size=3, filters=(128, 128, 512), stage=3, block=\"d\")\n",
    "    \n",
    "    # Stage 4\n",
    "    X = convolutional_block(X, conv_size=3, filters=(256, 256, 1024), stage=4, block=\"a\", stride_size=2)\n",
    "    X = identity_block(X, conv_size=3, filters=(256, 256, 1024), stage=4, block=\"b\")\n",
    "    X = identity_block(X, conv_size=3, filters=(256, 256, 1024), stage=4, block=\"c\")\n",
    "    X = identity_block(X, conv_size=3, filters=(256, 256, 1024), stage=4, block=\"d\")\n",
    "    X = identity_block(X, conv_size=3, filters=(256, 256, 1024), stage=4, block=\"e\")\n",
    "    X = identity_block(X, conv_size=3, filters=(256, 256, 1024), stage=4, block=\"f\")\n",
    "    \n",
    "    # Stage 5\n",
    "    X = convolutional_block(X, conv_size=3, filters=(512, 512, 2048), stage=5, block=\"a\", stride_size=2)\n",
    "    X = identity_block(X, conv_size=3, filters=(512, 512, 2048), stage=5, block=\"b\")\n",
    "    X = identity_block(X, conv_size=3, filters=(512, 512, 2048), stage=5, block=\"c\")\n",
    "    \n",
    "    # Average Pooling\n",
    "    X = AveragePooling2D(pool_size=(2, 2), name=\"avg_pool\")(X)\n",
    "    \n",
    "    # Flatten the Output from Average Pooling\n",
    "    X = Flatten()(X)\n",
    "    X = Dense(units=classes, activation=\"softmax\", name=f\"fc_{classes}\",\n",
    "              kernel_initializer=glorot_uniform(seed=0))(X)\n",
    "    \n",
    "    # Creating the model\n",
    "    model = Model(inputs=X_input, outputs=X, name=\"ResNet50\")\n",
    "    \n",
    "    return model"
   ]
  },
  {
   "cell_type": "code",
   "execution_count": 25,
   "metadata": {
    "id": "Q_ChXFaDqLBF"
   },
   "outputs": [],
   "source": [
    "model = ResNet50(input_shape=(224, 224, 3), classes=10)"
   ]
  },
  {
   "cell_type": "code",
   "execution_count": 26,
   "metadata": {
    "id": "H7d-6kJl5ksK"
   },
   "outputs": [],
   "source": [
    "opt = Adam(learning_rate=0.001)\n",
    "\n",
    "tensorboard_callback = TensorBoard(log_dir=\"./logs\")\n",
    "reduce_lr = ReduceLROnPlateau(monitor='val_loss', patience=2)\n",
    "early_stopping = EarlyStopping(monitor='val_loss', patience=5)"
   ]
  },
  {
   "cell_type": "code",
   "execution_count": 27,
   "metadata": {
    "id": "GpmrKqOBqLBI"
   },
   "outputs": [],
   "source": [
    "model.compile(optimizer=opt, loss=\"categorical_crossentropy\",\n",
    "              metrics=[\"accuracy\"])"
   ]
  },
  {
   "cell_type": "code",
   "execution_count": 28,
   "metadata": {
    "colab": {
     "base_uri": "https://localhost:8080/"
    },
    "id": "ZbjDOGetqLBI",
    "outputId": "91508608-4834-4ed7-b1b7-130e83470ac5"
   },
   "outputs": [
    {
     "name": "stdout",
     "output_type": "stream",
     "text": [
      "Model: \"ResNet50\"\n",
      "__________________________________________________________________________________________________\n",
      "Layer (type)                    Output Shape         Param #     Connected to                     \n",
      "==================================================================================================\n",
      "input_2 (InputLayer)            [(None, 224, 224, 3) 0                                            \n",
      "__________________________________________________________________________________________________\n",
      "zero_padding2d_1 (ZeroPadding2D (None, 230, 230, 3)  0           input_2[0][0]                    \n",
      "__________________________________________________________________________________________________\n",
      "conv1 (Conv2D)                  (None, 112, 112, 64) 9472        zero_padding2d_1[0][0]           \n",
      "__________________________________________________________________________________________________\n",
      "bn_conv1 (BatchNormalization)   (None, 112, 112, 64) 256         conv1[0][0]                      \n",
      "__________________________________________________________________________________________________\n",
      "activation_49 (Activation)      (None, 112, 112, 64) 0           bn_conv1[0][0]                   \n",
      "__________________________________________________________________________________________________\n",
      "max_pooling2d_1 (MaxPooling2D)  (None, 55, 55, 64)   0           activation_49[0][0]              \n",
      "__________________________________________________________________________________________________\n",
      "res2a_branch_2a (Conv2D)        (None, 28, 28, 64)   4160        max_pooling2d_1[0][0]            \n",
      "__________________________________________________________________________________________________\n",
      "bn2a_branch_2a (BatchNormalizat (None, 28, 28, 64)   256         res2a_branch_2a[0][0]            \n",
      "__________________________________________________________________________________________________\n",
      "activation_50 (Activation)      (None, 28, 28, 64)   0           bn2a_branch_2a[0][0]             \n",
      "__________________________________________________________________________________________________\n",
      "res2a_branch_2b (Conv2D)        (None, 28, 28, 64)   36928       activation_50[0][0]              \n",
      "__________________________________________________________________________________________________\n",
      "bn2a_branch_2b (BatchNormalizat (None, 28, 28, 64)   256         res2a_branch_2b[0][0]            \n",
      "__________________________________________________________________________________________________\n",
      "activation_51 (Activation)      (None, 28, 28, 64)   0           bn2a_branch_2b[0][0]             \n",
      "__________________________________________________________________________________________________\n",
      "res2a_branch_2c (Conv2D)        (None, 28, 28, 256)  16640       activation_51[0][0]              \n",
      "__________________________________________________________________________________________________\n",
      "res2a_branch_1 (Conv2D)         (None, 28, 28, 256)  16640       max_pooling2d_1[0][0]            \n",
      "__________________________________________________________________________________________________\n",
      "bn2a_branch_2c (BatchNormalizat (None, 28, 28, 256)  1024        res2a_branch_2c[0][0]            \n",
      "__________________________________________________________________________________________________\n",
      "bn2a_branch_1 (BatchNormalizati (None, 28, 28, 256)  1024        res2a_branch_1[0][0]             \n",
      "__________________________________________________________________________________________________\n",
      "add_16 (Add)                    (None, 28, 28, 256)  0           bn2a_branch_2c[0][0]             \n",
      "                                                                 bn2a_branch_1[0][0]              \n",
      "__________________________________________________________________________________________________\n",
      "activation_52 (Activation)      (None, 28, 28, 256)  0           add_16[0][0]                     \n",
      "__________________________________________________________________________________________________\n",
      "res2b_branch_2a (Conv2D)        (None, 28, 28, 64)   16448       activation_52[0][0]              \n",
      "__________________________________________________________________________________________________\n",
      "bn2b_branch_2a (BatchNormalizat (None, 28, 28, 64)   256         res2b_branch_2a[0][0]            \n",
      "__________________________________________________________________________________________________\n",
      "activation_53 (Activation)      (None, 28, 28, 64)   0           bn2b_branch_2a[0][0]             \n",
      "__________________________________________________________________________________________________\n",
      "res2b_branch_2b (Conv2D)        (None, 28, 28, 64)   36928       activation_53[0][0]              \n",
      "__________________________________________________________________________________________________\n",
      "bn2b_branch_2b (BatchNormalizat (None, 28, 28, 64)   256         res2b_branch_2b[0][0]            \n",
      "__________________________________________________________________________________________________\n",
      "activation_54 (Activation)      (None, 28, 28, 64)   0           bn2b_branch_2b[0][0]             \n",
      "__________________________________________________________________________________________________\n",
      "res2b_branch_2c (Conv2D)        (None, 28, 28, 256)  16640       activation_54[0][0]              \n",
      "__________________________________________________________________________________________________\n",
      "bn2b_branch_2c (BatchNormalizat (None, 28, 28, 256)  1024        res2b_branch_2c[0][0]            \n",
      "__________________________________________________________________________________________________\n",
      "add_17 (Add)                    (None, 28, 28, 256)  0           bn2b_branch_2c[0][0]             \n",
      "                                                                 activation_52[0][0]              \n",
      "__________________________________________________________________________________________________\n",
      "activation_55 (Activation)      (None, 28, 28, 256)  0           add_17[0][0]                     \n",
      "__________________________________________________________________________________________________\n",
      "res2c_branch_2a (Conv2D)        (None, 28, 28, 64)   16448       activation_55[0][0]              \n",
      "__________________________________________________________________________________________________\n",
      "bn2c_branch_2a (BatchNormalizat (None, 28, 28, 64)   256         res2c_branch_2a[0][0]            \n",
      "__________________________________________________________________________________________________\n",
      "activation_56 (Activation)      (None, 28, 28, 64)   0           bn2c_branch_2a[0][0]             \n",
      "__________________________________________________________________________________________________\n",
      "res2c_branch_2b (Conv2D)        (None, 28, 28, 64)   36928       activation_56[0][0]              \n",
      "__________________________________________________________________________________________________\n",
      "bn2c_branch_2b (BatchNormalizat (None, 28, 28, 64)   256         res2c_branch_2b[0][0]            \n",
      "__________________________________________________________________________________________________\n",
      "activation_57 (Activation)      (None, 28, 28, 64)   0           bn2c_branch_2b[0][0]             \n",
      "__________________________________________________________________________________________________\n",
      "res2c_branch_2c (Conv2D)        (None, 28, 28, 256)  16640       activation_57[0][0]              \n",
      "__________________________________________________________________________________________________\n",
      "bn2c_branch_2c (BatchNormalizat (None, 28, 28, 256)  1024        res2c_branch_2c[0][0]            \n",
      "__________________________________________________________________________________________________\n",
      "add_18 (Add)                    (None, 28, 28, 256)  0           bn2c_branch_2c[0][0]             \n",
      "                                                                 activation_55[0][0]              \n",
      "__________________________________________________________________________________________________\n",
      "activation_58 (Activation)      (None, 28, 28, 256)  0           add_18[0][0]                     \n",
      "__________________________________________________________________________________________________\n",
      "res3a_branch_2a (Conv2D)        (None, 14, 14, 128)  32896       activation_58[0][0]              \n",
      "__________________________________________________________________________________________________\n",
      "bn3a_branch_2a (BatchNormalizat (None, 14, 14, 128)  512         res3a_branch_2a[0][0]            \n",
      "__________________________________________________________________________________________________\n",
      "activation_59 (Activation)      (None, 14, 14, 128)  0           bn3a_branch_2a[0][0]             \n",
      "__________________________________________________________________________________________________\n",
      "res3a_branch_2b (Conv2D)        (None, 14, 14, 128)  147584      activation_59[0][0]              \n",
      "__________________________________________________________________________________________________\n",
      "bn3a_branch_2b (BatchNormalizat (None, 14, 14, 128)  512         res3a_branch_2b[0][0]            \n",
      "__________________________________________________________________________________________________\n",
      "activation_60 (Activation)      (None, 14, 14, 128)  0           bn3a_branch_2b[0][0]             \n",
      "__________________________________________________________________________________________________\n",
      "res3a_branch_2c (Conv2D)        (None, 14, 14, 512)  66048       activation_60[0][0]              \n",
      "__________________________________________________________________________________________________\n",
      "res3a_branch_1 (Conv2D)         (None, 14, 14, 512)  131584      activation_58[0][0]              \n",
      "__________________________________________________________________________________________________\n",
      "bn3a_branch_2c (BatchNormalizat (None, 14, 14, 512)  2048        res3a_branch_2c[0][0]            \n",
      "__________________________________________________________________________________________________\n",
      "bn3a_branch_1 (BatchNormalizati (None, 14, 14, 512)  2048        res3a_branch_1[0][0]             \n",
      "__________________________________________________________________________________________________\n",
      "add_19 (Add)                    (None, 14, 14, 512)  0           bn3a_branch_2c[0][0]             \n",
      "                                                                 bn3a_branch_1[0][0]              \n",
      "__________________________________________________________________________________________________\n",
      "activation_61 (Activation)      (None, 14, 14, 512)  0           add_19[0][0]                     \n",
      "__________________________________________________________________________________________________\n",
      "res3b_branch_2a (Conv2D)        (None, 14, 14, 128)  65664       activation_61[0][0]              \n",
      "__________________________________________________________________________________________________\n",
      "bn3b_branch_2a (BatchNormalizat (None, 14, 14, 128)  512         res3b_branch_2a[0][0]            \n",
      "__________________________________________________________________________________________________\n",
      "activation_62 (Activation)      (None, 14, 14, 128)  0           bn3b_branch_2a[0][0]             \n",
      "__________________________________________________________________________________________________\n",
      "res3b_branch_2b (Conv2D)        (None, 14, 14, 128)  147584      activation_62[0][0]              \n",
      "__________________________________________________________________________________________________\n",
      "bn3b_branch_2b (BatchNormalizat (None, 14, 14, 128)  512         res3b_branch_2b[0][0]            \n",
      "__________________________________________________________________________________________________\n",
      "activation_63 (Activation)      (None, 14, 14, 128)  0           bn3b_branch_2b[0][0]             \n",
      "__________________________________________________________________________________________________\n",
      "res3b_branch_2c (Conv2D)        (None, 14, 14, 512)  66048       activation_63[0][0]              \n",
      "__________________________________________________________________________________________________\n",
      "bn3b_branch_2c (BatchNormalizat (None, 14, 14, 512)  2048        res3b_branch_2c[0][0]            \n",
      "__________________________________________________________________________________________________\n",
      "add_20 (Add)                    (None, 14, 14, 512)  0           bn3b_branch_2c[0][0]             \n",
      "                                                                 activation_61[0][0]              \n",
      "__________________________________________________________________________________________________\n",
      "activation_64 (Activation)      (None, 14, 14, 512)  0           add_20[0][0]                     \n",
      "__________________________________________________________________________________________________\n",
      "res3c_branch_2a (Conv2D)        (None, 14, 14, 128)  65664       activation_64[0][0]              \n",
      "__________________________________________________________________________________________________\n",
      "bn3c_branch_2a (BatchNormalizat (None, 14, 14, 128)  512         res3c_branch_2a[0][0]            \n",
      "__________________________________________________________________________________________________\n",
      "activation_65 (Activation)      (None, 14, 14, 128)  0           bn3c_branch_2a[0][0]             \n",
      "__________________________________________________________________________________________________\n",
      "res3c_branch_2b (Conv2D)        (None, 14, 14, 128)  147584      activation_65[0][0]              \n",
      "__________________________________________________________________________________________________\n",
      "bn3c_branch_2b (BatchNormalizat (None, 14, 14, 128)  512         res3c_branch_2b[0][0]            \n",
      "__________________________________________________________________________________________________\n",
      "activation_66 (Activation)      (None, 14, 14, 128)  0           bn3c_branch_2b[0][0]             \n",
      "__________________________________________________________________________________________________\n",
      "res3c_branch_2c (Conv2D)        (None, 14, 14, 512)  66048       activation_66[0][0]              \n",
      "__________________________________________________________________________________________________\n",
      "bn3c_branch_2c (BatchNormalizat (None, 14, 14, 512)  2048        res3c_branch_2c[0][0]            \n",
      "__________________________________________________________________________________________________\n",
      "add_21 (Add)                    (None, 14, 14, 512)  0           bn3c_branch_2c[0][0]             \n",
      "                                                                 activation_64[0][0]              \n",
      "__________________________________________________________________________________________________\n",
      "activation_67 (Activation)      (None, 14, 14, 512)  0           add_21[0][0]                     \n",
      "__________________________________________________________________________________________________\n",
      "res3d_branch_2a (Conv2D)        (None, 14, 14, 128)  65664       activation_67[0][0]              \n",
      "__________________________________________________________________________________________________\n",
      "bn3d_branch_2a (BatchNormalizat (None, 14, 14, 128)  512         res3d_branch_2a[0][0]            \n",
      "__________________________________________________________________________________________________\n",
      "activation_68 (Activation)      (None, 14, 14, 128)  0           bn3d_branch_2a[0][0]             \n",
      "__________________________________________________________________________________________________\n",
      "res3d_branch_2b (Conv2D)        (None, 14, 14, 128)  147584      activation_68[0][0]              \n",
      "__________________________________________________________________________________________________\n",
      "bn3d_branch_2b (BatchNormalizat (None, 14, 14, 128)  512         res3d_branch_2b[0][0]            \n",
      "__________________________________________________________________________________________________\n",
      "activation_69 (Activation)      (None, 14, 14, 128)  0           bn3d_branch_2b[0][0]             \n",
      "__________________________________________________________________________________________________\n",
      "res3d_branch_2c (Conv2D)        (None, 14, 14, 512)  66048       activation_69[0][0]              \n",
      "__________________________________________________________________________________________________\n",
      "bn3d_branch_2c (BatchNormalizat (None, 14, 14, 512)  2048        res3d_branch_2c[0][0]            \n",
      "__________________________________________________________________________________________________\n",
      "add_22 (Add)                    (None, 14, 14, 512)  0           bn3d_branch_2c[0][0]             \n",
      "                                                                 activation_67[0][0]              \n",
      "__________________________________________________________________________________________________\n",
      "activation_70 (Activation)      (None, 14, 14, 512)  0           add_22[0][0]                     \n",
      "__________________________________________________________________________________________________\n",
      "res4a_branch_2a (Conv2D)        (None, 7, 7, 256)    131328      activation_70[0][0]              \n",
      "__________________________________________________________________________________________________\n",
      "bn4a_branch_2a (BatchNormalizat (None, 7, 7, 256)    1024        res4a_branch_2a[0][0]            \n",
      "__________________________________________________________________________________________________\n",
      "activation_71 (Activation)      (None, 7, 7, 256)    0           bn4a_branch_2a[0][0]             \n",
      "__________________________________________________________________________________________________\n",
      "res4a_branch_2b (Conv2D)        (None, 7, 7, 256)    590080      activation_71[0][0]              \n",
      "__________________________________________________________________________________________________\n",
      "bn4a_branch_2b (BatchNormalizat (None, 7, 7, 256)    1024        res4a_branch_2b[0][0]            \n",
      "__________________________________________________________________________________________________\n",
      "activation_72 (Activation)      (None, 7, 7, 256)    0           bn4a_branch_2b[0][0]             \n",
      "__________________________________________________________________________________________________\n",
      "res4a_branch_2c (Conv2D)        (None, 7, 7, 1024)   263168      activation_72[0][0]              \n",
      "__________________________________________________________________________________________________\n",
      "res4a_branch_1 (Conv2D)         (None, 7, 7, 1024)   525312      activation_70[0][0]              \n",
      "__________________________________________________________________________________________________\n",
      "bn4a_branch_2c (BatchNormalizat (None, 7, 7, 1024)   4096        res4a_branch_2c[0][0]            \n",
      "__________________________________________________________________________________________________\n",
      "bn4a_branch_1 (BatchNormalizati (None, 7, 7, 1024)   4096        res4a_branch_1[0][0]             \n",
      "__________________________________________________________________________________________________\n",
      "add_23 (Add)                    (None, 7, 7, 1024)   0           bn4a_branch_2c[0][0]             \n",
      "                                                                 bn4a_branch_1[0][0]              \n",
      "__________________________________________________________________________________________________\n",
      "activation_73 (Activation)      (None, 7, 7, 1024)   0           add_23[0][0]                     \n",
      "__________________________________________________________________________________________________\n",
      "res4b_branch_2a (Conv2D)        (None, 7, 7, 256)    262400      activation_73[0][0]              \n",
      "__________________________________________________________________________________________________\n",
      "bn4b_branch_2a (BatchNormalizat (None, 7, 7, 256)    1024        res4b_branch_2a[0][0]            \n",
      "__________________________________________________________________________________________________\n",
      "activation_74 (Activation)      (None, 7, 7, 256)    0           bn4b_branch_2a[0][0]             \n",
      "__________________________________________________________________________________________________\n",
      "res4b_branch_2b (Conv2D)        (None, 7, 7, 256)    590080      activation_74[0][0]              \n",
      "__________________________________________________________________________________________________\n",
      "bn4b_branch_2b (BatchNormalizat (None, 7, 7, 256)    1024        res4b_branch_2b[0][0]            \n",
      "__________________________________________________________________________________________________\n",
      "activation_75 (Activation)      (None, 7, 7, 256)    0           bn4b_branch_2b[0][0]             \n",
      "__________________________________________________________________________________________________\n",
      "res4b_branch_2c (Conv2D)        (None, 7, 7, 1024)   263168      activation_75[0][0]              \n",
      "__________________________________________________________________________________________________\n",
      "bn4b_branch_2c (BatchNormalizat (None, 7, 7, 1024)   4096        res4b_branch_2c[0][0]            \n",
      "__________________________________________________________________________________________________\n",
      "add_24 (Add)                    (None, 7, 7, 1024)   0           bn4b_branch_2c[0][0]             \n",
      "                                                                 activation_73[0][0]              \n",
      "__________________________________________________________________________________________________\n",
      "activation_76 (Activation)      (None, 7, 7, 1024)   0           add_24[0][0]                     \n",
      "__________________________________________________________________________________________________\n",
      "res4c_branch_2a (Conv2D)        (None, 7, 7, 256)    262400      activation_76[0][0]              \n",
      "__________________________________________________________________________________________________\n",
      "bn4c_branch_2a (BatchNormalizat (None, 7, 7, 256)    1024        res4c_branch_2a[0][0]            \n",
      "__________________________________________________________________________________________________\n",
      "activation_77 (Activation)      (None, 7, 7, 256)    0           bn4c_branch_2a[0][0]             \n",
      "__________________________________________________________________________________________________\n",
      "res4c_branch_2b (Conv2D)        (None, 7, 7, 256)    590080      activation_77[0][0]              \n",
      "__________________________________________________________________________________________________\n",
      "bn4c_branch_2b (BatchNormalizat (None, 7, 7, 256)    1024        res4c_branch_2b[0][0]            \n",
      "__________________________________________________________________________________________________\n",
      "activation_78 (Activation)      (None, 7, 7, 256)    0           bn4c_branch_2b[0][0]             \n",
      "__________________________________________________________________________________________________\n",
      "res4c_branch_2c (Conv2D)        (None, 7, 7, 1024)   263168      activation_78[0][0]              \n",
      "__________________________________________________________________________________________________\n",
      "bn4c_branch_2c (BatchNormalizat (None, 7, 7, 1024)   4096        res4c_branch_2c[0][0]            \n",
      "__________________________________________________________________________________________________\n",
      "add_25 (Add)                    (None, 7, 7, 1024)   0           bn4c_branch_2c[0][0]             \n",
      "                                                                 activation_76[0][0]              \n",
      "__________________________________________________________________________________________________\n",
      "activation_79 (Activation)      (None, 7, 7, 1024)   0           add_25[0][0]                     \n",
      "__________________________________________________________________________________________________\n",
      "res4d_branch_2a (Conv2D)        (None, 7, 7, 256)    262400      activation_79[0][0]              \n",
      "__________________________________________________________________________________________________\n",
      "bn4d_branch_2a (BatchNormalizat (None, 7, 7, 256)    1024        res4d_branch_2a[0][0]            \n",
      "__________________________________________________________________________________________________\n",
      "activation_80 (Activation)      (None, 7, 7, 256)    0           bn4d_branch_2a[0][0]             \n",
      "__________________________________________________________________________________________________\n",
      "res4d_branch_2b (Conv2D)        (None, 7, 7, 256)    590080      activation_80[0][0]              \n",
      "__________________________________________________________________________________________________\n",
      "bn4d_branch_2b (BatchNormalizat (None, 7, 7, 256)    1024        res4d_branch_2b[0][0]            \n",
      "__________________________________________________________________________________________________\n",
      "activation_81 (Activation)      (None, 7, 7, 256)    0           bn4d_branch_2b[0][0]             \n",
      "__________________________________________________________________________________________________\n",
      "res4d_branch_2c (Conv2D)        (None, 7, 7, 1024)   263168      activation_81[0][0]              \n",
      "__________________________________________________________________________________________________\n",
      "bn4d_branch_2c (BatchNormalizat (None, 7, 7, 1024)   4096        res4d_branch_2c[0][0]            \n",
      "__________________________________________________________________________________________________\n",
      "add_26 (Add)                    (None, 7, 7, 1024)   0           bn4d_branch_2c[0][0]             \n",
      "                                                                 activation_79[0][0]              \n",
      "__________________________________________________________________________________________________\n",
      "activation_82 (Activation)      (None, 7, 7, 1024)   0           add_26[0][0]                     \n",
      "__________________________________________________________________________________________________\n",
      "res4e_branch_2a (Conv2D)        (None, 7, 7, 256)    262400      activation_82[0][0]              \n",
      "__________________________________________________________________________________________________\n",
      "bn4e_branch_2a (BatchNormalizat (None, 7, 7, 256)    1024        res4e_branch_2a[0][0]            \n",
      "__________________________________________________________________________________________________\n",
      "activation_83 (Activation)      (None, 7, 7, 256)    0           bn4e_branch_2a[0][0]             \n",
      "__________________________________________________________________________________________________\n",
      "res4e_branch_2b (Conv2D)        (None, 7, 7, 256)    590080      activation_83[0][0]              \n",
      "__________________________________________________________________________________________________\n",
      "bn4e_branch_2b (BatchNormalizat (None, 7, 7, 256)    1024        res4e_branch_2b[0][0]            \n",
      "__________________________________________________________________________________________________\n",
      "activation_84 (Activation)      (None, 7, 7, 256)    0           bn4e_branch_2b[0][0]             \n",
      "__________________________________________________________________________________________________\n",
      "res4e_branch_2c (Conv2D)        (None, 7, 7, 1024)   263168      activation_84[0][0]              \n",
      "__________________________________________________________________________________________________\n",
      "bn4e_branch_2c (BatchNormalizat (None, 7, 7, 1024)   4096        res4e_branch_2c[0][0]            \n",
      "__________________________________________________________________________________________________\n",
      "add_27 (Add)                    (None, 7, 7, 1024)   0           bn4e_branch_2c[0][0]             \n",
      "                                                                 activation_82[0][0]              \n",
      "__________________________________________________________________________________________________\n",
      "activation_85 (Activation)      (None, 7, 7, 1024)   0           add_27[0][0]                     \n",
      "__________________________________________________________________________________________________\n",
      "res4f_branch_2a (Conv2D)        (None, 7, 7, 256)    262400      activation_85[0][0]              \n",
      "__________________________________________________________________________________________________\n",
      "bn4f_branch_2a (BatchNormalizat (None, 7, 7, 256)    1024        res4f_branch_2a[0][0]            \n",
      "__________________________________________________________________________________________________\n",
      "activation_86 (Activation)      (None, 7, 7, 256)    0           bn4f_branch_2a[0][0]             \n",
      "__________________________________________________________________________________________________\n",
      "res4f_branch_2b (Conv2D)        (None, 7, 7, 256)    590080      activation_86[0][0]              \n",
      "__________________________________________________________________________________________________\n",
      "bn4f_branch_2b (BatchNormalizat (None, 7, 7, 256)    1024        res4f_branch_2b[0][0]            \n",
      "__________________________________________________________________________________________________\n",
      "activation_87 (Activation)      (None, 7, 7, 256)    0           bn4f_branch_2b[0][0]             \n",
      "__________________________________________________________________________________________________\n",
      "res4f_branch_2c (Conv2D)        (None, 7, 7, 1024)   263168      activation_87[0][0]              \n",
      "__________________________________________________________________________________________________\n",
      "bn4f_branch_2c (BatchNormalizat (None, 7, 7, 1024)   4096        res4f_branch_2c[0][0]            \n",
      "__________________________________________________________________________________________________\n",
      "add_28 (Add)                    (None, 7, 7, 1024)   0           bn4f_branch_2c[0][0]             \n",
      "                                                                 activation_85[0][0]              \n",
      "__________________________________________________________________________________________________\n",
      "activation_88 (Activation)      (None, 7, 7, 1024)   0           add_28[0][0]                     \n",
      "__________________________________________________________________________________________________\n",
      "res5a_branch_2a (Conv2D)        (None, 4, 4, 512)    524800      activation_88[0][0]              \n",
      "__________________________________________________________________________________________________\n",
      "bn5a_branch_2a (BatchNormalizat (None, 4, 4, 512)    2048        res5a_branch_2a[0][0]            \n",
      "__________________________________________________________________________________________________\n",
      "activation_89 (Activation)      (None, 4, 4, 512)    0           bn5a_branch_2a[0][0]             \n",
      "__________________________________________________________________________________________________\n",
      "res5a_branch_2b (Conv2D)        (None, 4, 4, 512)    2359808     activation_89[0][0]              \n",
      "__________________________________________________________________________________________________\n",
      "bn5a_branch_2b (BatchNormalizat (None, 4, 4, 512)    2048        res5a_branch_2b[0][0]            \n",
      "__________________________________________________________________________________________________\n",
      "activation_90 (Activation)      (None, 4, 4, 512)    0           bn5a_branch_2b[0][0]             \n",
      "__________________________________________________________________________________________________\n",
      "res5a_branch_2c (Conv2D)        (None, 4, 4, 2048)   1050624     activation_90[0][0]              \n",
      "__________________________________________________________________________________________________\n",
      "res5a_branch_1 (Conv2D)         (None, 4, 4, 2048)   2099200     activation_88[0][0]              \n",
      "__________________________________________________________________________________________________\n",
      "bn5a_branch_2c (BatchNormalizat (None, 4, 4, 2048)   8192        res5a_branch_2c[0][0]            \n",
      "__________________________________________________________________________________________________\n",
      "bn5a_branch_1 (BatchNormalizati (None, 4, 4, 2048)   8192        res5a_branch_1[0][0]             \n",
      "__________________________________________________________________________________________________\n",
      "add_29 (Add)                    (None, 4, 4, 2048)   0           bn5a_branch_2c[0][0]             \n",
      "                                                                 bn5a_branch_1[0][0]              \n",
      "__________________________________________________________________________________________________\n",
      "activation_91 (Activation)      (None, 4, 4, 2048)   0           add_29[0][0]                     \n",
      "__________________________________________________________________________________________________\n",
      "res5b_branch_2a (Conv2D)        (None, 4, 4, 512)    1049088     activation_91[0][0]              \n",
      "__________________________________________________________________________________________________\n",
      "bn5b_branch_2a (BatchNormalizat (None, 4, 4, 512)    2048        res5b_branch_2a[0][0]            \n",
      "__________________________________________________________________________________________________\n",
      "activation_92 (Activation)      (None, 4, 4, 512)    0           bn5b_branch_2a[0][0]             \n",
      "__________________________________________________________________________________________________\n",
      "res5b_branch_2b (Conv2D)        (None, 4, 4, 512)    2359808     activation_92[0][0]              \n",
      "__________________________________________________________________________________________________\n",
      "bn5b_branch_2b (BatchNormalizat (None, 4, 4, 512)    2048        res5b_branch_2b[0][0]            \n",
      "__________________________________________________________________________________________________\n",
      "activation_93 (Activation)      (None, 4, 4, 512)    0           bn5b_branch_2b[0][0]             \n",
      "__________________________________________________________________________________________________\n",
      "res5b_branch_2c (Conv2D)        (None, 4, 4, 2048)   1050624     activation_93[0][0]              \n",
      "__________________________________________________________________________________________________\n",
      "bn5b_branch_2c (BatchNormalizat (None, 4, 4, 2048)   8192        res5b_branch_2c[0][0]            \n",
      "__________________________________________________________________________________________________\n",
      "add_30 (Add)                    (None, 4, 4, 2048)   0           bn5b_branch_2c[0][0]             \n",
      "                                                                 activation_91[0][0]              \n",
      "__________________________________________________________________________________________________\n",
      "activation_94 (Activation)      (None, 4, 4, 2048)   0           add_30[0][0]                     \n",
      "__________________________________________________________________________________________________\n",
      "res5c_branch_2a (Conv2D)        (None, 4, 4, 512)    1049088     activation_94[0][0]              \n",
      "__________________________________________________________________________________________________\n",
      "bn5c_branch_2a (BatchNormalizat (None, 4, 4, 512)    2048        res5c_branch_2a[0][0]            \n",
      "__________________________________________________________________________________________________\n",
      "activation_95 (Activation)      (None, 4, 4, 512)    0           bn5c_branch_2a[0][0]             \n",
      "__________________________________________________________________________________________________\n",
      "res5c_branch_2b (Conv2D)        (None, 4, 4, 512)    2359808     activation_95[0][0]              \n",
      "__________________________________________________________________________________________________\n",
      "bn5c_branch_2b (BatchNormalizat (None, 4, 4, 512)    2048        res5c_branch_2b[0][0]            \n",
      "__________________________________________________________________________________________________\n",
      "activation_96 (Activation)      (None, 4, 4, 512)    0           bn5c_branch_2b[0][0]             \n",
      "__________________________________________________________________________________________________\n",
      "res5c_branch_2c (Conv2D)        (None, 4, 4, 2048)   1050624     activation_96[0][0]              \n",
      "__________________________________________________________________________________________________\n",
      "bn5c_branch_2c (BatchNormalizat (None, 4, 4, 2048)   8192        res5c_branch_2c[0][0]            \n",
      "__________________________________________________________________________________________________\n",
      "add_31 (Add)                    (None, 4, 4, 2048)   0           bn5c_branch_2c[0][0]             \n",
      "                                                                 activation_94[0][0]              \n",
      "__________________________________________________________________________________________________\n",
      "activation_97 (Activation)      (None, 4, 4, 2048)   0           add_31[0][0]                     \n",
      "__________________________________________________________________________________________________\n",
      "avg_pool (AveragePooling2D)     (None, 2, 2, 2048)   0           activation_97[0][0]              \n",
      "__________________________________________________________________________________________________\n",
      "flatten_1 (Flatten)             (None, 8192)         0           avg_pool[0][0]                   \n",
      "__________________________________________________________________________________________________\n",
      "fc_10 (Dense)                   (None, 10)           81930       flatten_1[0][0]                  \n",
      "==================================================================================================\n",
      "Total params: 23,669,642\n",
      "Trainable params: 23,616,522\n",
      "Non-trainable params: 53,120\n",
      "__________________________________________________________________________________________________\n"
     ]
    }
   ],
   "source": [
    "# Printing the model summary\n",
    "model.summary()"
   ]
  },
  {
   "cell_type": "code",
   "execution_count": 29,
   "metadata": {
    "colab": {
     "base_uri": "https://localhost:8080/"
    },
    "id": "q1u3Oz08qLBI",
    "outputId": "ee3fb958-91b5-4bc0-c1c0-0c1b7209bcca"
   },
   "outputs": [
    {
     "name": "stdout",
     "output_type": "stream",
     "text": [
      "Found 707 images belonging to 10 classes.\n",
      "Found 84 images belonging to 10 classes.\n"
     ]
    }
   ],
   "source": [
    "# Image Data Generator for Training and Testing\n",
    "IMAGE_HEIGHT = 224\n",
    "IMAGE_WIDTH = 224\n",
    "BATCH_SIZE=8\n",
    "\n",
    "train_datagen = ImageDataGenerator(rescale=1.0/255, rotation_range=15,\n",
    "                                   width_shift_range=0.2, height_shift_range=0.2, horizontal_flip=True)\n",
    "\n",
    "val_datagen = ImageDataGenerator(rescale=1.0/255)\n",
    "\n",
    "train_generator = train_datagen.flow_from_directory(directory=train_dir, target_size=(IMAGE_HEIGHT, IMAGE_WIDTH),\n",
    "                                                    batch_size=BATCH_SIZE, seed=0)\n",
    "val_generator = val_datagen.flow_from_directory(directory=val_dir, target_size=(IMAGE_HEIGHT, IMAGE_WIDTH),\n",
    "                                                    batch_size=BATCH_SIZE, seed=0)"
   ]
  },
  {
   "cell_type": "code",
   "execution_count": 30,
   "metadata": {
    "id": "4AyBrJ31qLBI"
   },
   "outputs": [],
   "source": [
    "# Config\n",
    "EPOCHS=50\n",
    "STEPS_PER_EPOCH=train_generator.n // BATCH_SIZE\n",
    "VALIDATION_STEPS=val_generator.n // BATCH_SIZE"
   ]
  },
  {
   "cell_type": "code",
   "execution_count": 31,
   "metadata": {
    "colab": {
     "base_uri": "https://localhost:8080/"
    },
    "id": "rTGph2reqLBI",
    "outputId": "3231783a-7b0a-401d-ed56-77ce3c6856f7"
   },
   "outputs": [
    {
     "name": "stdout",
     "output_type": "stream",
     "text": [
      "Epoch 1/50\n",
      "88/88 [==============================] - 173s 2s/step - loss: 10.0904 - accuracy: 0.1006 - val_loss: 2.4735 - val_accuracy: 0.1125\n",
      "Epoch 2/50\n",
      "88/88 [==============================] - 12s 134ms/step - loss: 4.1670 - accuracy: 0.0826 - val_loss: 2.5099 - val_accuracy: 0.1500\n",
      "Epoch 3/50\n",
      "88/88 [==============================] - 12s 135ms/step - loss: 3.4378 - accuracy: 0.1042 - val_loss: 11.2030 - val_accuracy: 0.1750\n",
      "Epoch 4/50\n",
      "88/88 [==============================] - 12s 134ms/step - loss: 2.5226 - accuracy: 0.1116 - val_loss: 2.4260 - val_accuracy: 0.1250\n",
      "Epoch 5/50\n",
      "88/88 [==============================] - 12s 133ms/step - loss: 2.2816 - accuracy: 0.1744 - val_loss: 2.2633 - val_accuracy: 0.1750\n",
      "Epoch 6/50\n",
      "88/88 [==============================] - 12s 133ms/step - loss: 2.2595 - accuracy: 0.2018 - val_loss: 2.1699 - val_accuracy: 0.1625\n",
      "Epoch 7/50\n",
      "88/88 [==============================] - 12s 133ms/step - loss: 2.2403 - accuracy: 0.1881 - val_loss: 2.2206 - val_accuracy: 0.1500\n",
      "Epoch 8/50\n",
      "88/88 [==============================] - 12s 133ms/step - loss: 2.2917 - accuracy: 0.1534 - val_loss: 2.1752 - val_accuracy: 0.2375\n",
      "Epoch 9/50\n",
      "88/88 [==============================] - 12s 132ms/step - loss: 2.2491 - accuracy: 0.1844 - val_loss: 2.1794 - val_accuracy: 0.2375\n",
      "Epoch 10/50\n",
      "88/88 [==============================] - 12s 133ms/step - loss: 2.1333 - accuracy: 0.2393 - val_loss: 2.1877 - val_accuracy: 0.2500\n",
      "Epoch 11/50\n",
      "88/88 [==============================] - 12s 133ms/step - loss: 2.1872 - accuracy: 0.2089 - val_loss: 2.1550 - val_accuracy: 0.2625\n",
      "Epoch 12/50\n",
      "88/88 [==============================] - 12s 133ms/step - loss: 2.1468 - accuracy: 0.2363 - val_loss: 2.1562 - val_accuracy: 0.2750\n",
      "Epoch 13/50\n",
      "88/88 [==============================] - 12s 132ms/step - loss: 2.2139 - accuracy: 0.2308 - val_loss: 2.1477 - val_accuracy: 0.2625\n",
      "Epoch 14/50\n",
      "88/88 [==============================] - 12s 133ms/step - loss: 2.1780 - accuracy: 0.2416 - val_loss: 2.1608 - val_accuracy: 0.2625\n",
      "Epoch 15/50\n",
      "88/88 [==============================] - 12s 133ms/step - loss: 2.1584 - accuracy: 0.2447 - val_loss: 2.1603 - val_accuracy: 0.2500\n",
      "Epoch 16/50\n",
      "88/88 [==============================] - 12s 132ms/step - loss: 2.1257 - accuracy: 0.2427 - val_loss: 2.1608 - val_accuracy: 0.2500\n",
      "Epoch 17/50\n",
      "88/88 [==============================] - 12s 134ms/step - loss: 2.1557 - accuracy: 0.2287 - val_loss: 2.1449 - val_accuracy: 0.2500\n",
      "Epoch 18/50\n",
      "88/88 [==============================] - 12s 132ms/step - loss: 2.1694 - accuracy: 0.2421 - val_loss: 2.1606 - val_accuracy: 0.2500\n",
      "Epoch 19/50\n",
      "88/88 [==============================] - 12s 133ms/step - loss: 2.1408 - accuracy: 0.2246 - val_loss: 2.1677 - val_accuracy: 0.2375\n",
      "Epoch 20/50\n",
      "88/88 [==============================] - 12s 133ms/step - loss: 2.1276 - accuracy: 0.2203 - val_loss: 2.1661 - val_accuracy: 0.2375\n",
      "Epoch 21/50\n",
      "88/88 [==============================] - 12s 132ms/step - loss: 2.1395 - accuracy: 0.2438 - val_loss: 2.1495 - val_accuracy: 0.2500\n",
      "Epoch 22/50\n",
      "88/88 [==============================] - 12s 132ms/step - loss: 2.1689 - accuracy: 0.2292 - val_loss: 2.1501 - val_accuracy: 0.2500\n"
     ]
    }
   ],
   "source": [
    "history = model.fit(train_generator, steps_per_epoch=STEPS_PER_EPOCH, epochs=EPOCHS,\n",
    "                    validation_data=val_generator, validation_steps=VALIDATION_STEPS,\n",
    "                    callbacks=[reduce_lr, early_stopping, tensorboard_callback])"
   ]
  },
  {
   "cell_type": "markdown",
   "metadata": {
    "id": "nSsXju5q-KIA"
   },
   "source": [
    "I tried implementing ResNet 50 from scratch but as there are 23,616,522 parameters to learn and the dataset is quite small\n",
    "and the model is not converging the training was stopped and instead Transfer Learning is used."
   ]
  },
  {
   "cell_type": "code",
   "execution_count": null,
   "metadata": {},
   "outputs": [],
   "source": []
  }
 ],
 "metadata": {
  "accelerator": "GPU",
  "colab": {
   "collapsed_sections": [],
   "name": "Dog Breed Classification - Resnet50 Scratch.ipynb",
   "provenance": [],
   "toc_visible": true
  },
  "kernelspec": {
   "display_name": "Python 3",
   "language": "python",
   "name": "python3"
  },
  "language_info": {
   "codemirror_mode": {
    "name": "ipython",
    "version": 3
   },
   "file_extension": ".py",
   "mimetype": "text/x-python",
   "name": "python",
   "nbconvert_exporter": "python",
   "pygments_lexer": "ipython3",
   "version": "3.7.4"
  }
 },
 "nbformat": 4,
 "nbformat_minor": 1
}
